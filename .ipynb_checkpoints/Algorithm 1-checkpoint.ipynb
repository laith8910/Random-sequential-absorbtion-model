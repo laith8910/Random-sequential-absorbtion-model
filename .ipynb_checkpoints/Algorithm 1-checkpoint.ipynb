{
 "cells": [
  {
   "cell_type": "code",
   "execution_count": 4,
   "id": "b8313874",
   "metadata": {},
   "outputs": [],
   "source": [
    "import numpy as np\n",
    "from numpy import random as rnd"
   ]
  },
  {
   "cell_type": "code",
   "execution_count": 5,
   "id": "b27c11b4",
   "metadata": {},
   "outputs": [],
   "source": [
    "# Use dispersity (between 1 and 3) to choose which system to return a radius from\n",
    "\n",
    "def pickRadius(dispersity):\n",
    "    if (dispersity == 1):\n",
    "        return (1/((np.pi)**0.5))\n",
    "    if (dispersity == 2):\n",
    "        a = np.array([((3/(2*(np.pi)))**0.5), ((1/(2*(np.pi)))**0.5)])\n",
    "        return rnd.choice(a , p = [0.5, 0.5])\n",
    "    if (dispersity == 3):\n",
    "        a = np.array([((15/(16*(np.pi)))**0.5), ((5/(4*(np.pi)))**0.5)])\n",
    "        return rnd.choice(a , p = [0.8, 0.2])"
   ]
  },
  {
   "cell_type": "code",
   "execution_count": 6,
   "id": "a47d5b26",
   "metadata": {},
   "outputs": [],
   "source": [
    "#Class for creating a disc\n",
    "# Cooridinates represent middle of discs\n",
    "# choose 1-3 for dispersity\n",
    "\n",
    "class config(): \n",
    "    def __init__(self, dispersity):\n",
    "        self.radius = pickRadius(dispersity)\n",
    "        self.x = (rnd.rand()) * 20\n",
    "        self.y = (rnd.rand()) * 20\n",
    "        return"
   ]
  },
  {
   "cell_type": "code",
   "execution_count": 187,
   "id": "17c1a375",
   "metadata": {},
   "outputs": [],
   "source": [
    "# iterates attempts of N\n",
    "#select dispersity scenario of 1-3\n",
    "\n",
    "def addDiscs(N, dispersity, overlapConstant = 1.0):\n",
    "    # situ = np.empty(N, dtype = \"object\")\n",
    "    situ = np.array([])\n",
    "    \n",
    "    for i in range(N):\n",
    "        a = config(dispersity)\n",
    "        #check if disc is hitting side\n",
    "        insideBox = (\n",
    "            ((a.x - a.radius > 0) and (a.x + a.radius < 20)) \n",
    "            and ((a.y - a.radius > 0) and (a.y + a.radius < 20))\n",
    "        )\n",
    "        ## print(\"inside box\", insideBox)\n",
    "        \n",
    "        def notHitting(a2):\n",
    "            return (((((a.x - a2.x)**2) + ((a.y - a2.y)**2))**0.5) >\n",
    "                (overlapConstant * (a.radius + a2.radius)))\n",
    "        applyAll = np.vectorize(notHitting)\n",
    "        \n",
    "        #checking hitting any other disc, accoutning for if its first\n",
    "        # Need to check if length of array >0 first\n",
    "        if (situ.size == 0):\n",
    "            notHitting = True\n",
    "        else:\n",
    "            hittingArray = applyAll(situ)\n",
    "            ## print(hittingArray)\n",
    "            notHitting = np.all(hittingArray)\n",
    "            \n",
    "        ## print(\"not hitting\", notHitting)\n",
    "        \n",
    "        # appends disc to array if it meets conditions\n",
    "        if (notHitting and insideBox):\n",
    "            ## print(\"CONDITIONS MET\")\n",
    "            situ = np.append(situ, a)\n",
    "            \n",
    "        # Returns completed array after end of loop\n",
    "        \n",
    "    return situ\n",
    "        "
   ]
  },
  {
   "cell_type": "code",
   "execution_count": 191,
   "id": "f7e9e488",
   "metadata": {
    "scrolled": false
   },
   "outputs": [
    {
     "name": "stdout",
     "output_type": "stream",
     "text": [
      "[<__main__.config object at 0x0000026BD171CAF0>\n",
      " <__main__.config object at 0x0000026BD1778CD0>\n",
      " <__main__.config object at 0x0000026BD17783A0>\n",
      " <__main__.config object at 0x0000026BD1778F70>\n",
      " <__main__.config object at 0x0000026BD1778DC0>\n",
      " <__main__.config object at 0x0000026BD17781F0>\n",
      " <__main__.config object at 0x0000026BD1778850>\n",
      " <__main__.config object at 0x0000026BD1778550>\n",
      " <__main__.config object at 0x0000026BD1778430>]\n",
      "<class 'numpy.ndarray'>\n",
      "9\n"
     ]
    }
   ],
   "source": [
    "testArray = addDiscs(10,1)\n",
    "\n",
    "print(testArray)\n",
    "print(type(testArray))\n",
    "print(testArray.size)\n",
    "# issue is that it's checking with empty items, maybe consider popping\n",
    "# popping would change index number, skipping the following value\n",
    "\n",
    "#could change i if one is removed\n",
    "# masking would still have empty values... I think... we would want it to refrence the previous obj\n",
    "\n",
    "# needs to check for EVERY PREVIOUS DISC"
   ]
  },
  {
   "cell_type": "code",
   "execution_count": 144,
   "id": "8005de30",
   "metadata": {},
   "outputs": [
    {
     "name": "stdout",
     "output_type": "stream",
     "text": [
      "0\n"
     ]
    }
   ],
   "source": [
    "test = np.empty(0, dtype = \"void\")\n",
    "\n",
    "\n",
    "\n",
    "print(test.size)\n"
   ]
  },
  {
   "cell_type": "code",
   "execution_count": null,
   "id": "9b7f189b",
   "metadata": {},
   "outputs": [],
   "source": []
  },
  {
   "cell_type": "code",
   "execution_count": null,
   "id": "5a44ecd5",
   "metadata": {},
   "outputs": [],
   "source": []
  }
 ],
 "metadata": {
  "kernelspec": {
   "display_name": "Python 3 (ipykernel)",
   "language": "python",
   "name": "python3"
  },
  "language_info": {
   "codemirror_mode": {
    "name": "ipython",
    "version": 3
   },
   "file_extension": ".py",
   "mimetype": "text/x-python",
   "name": "python",
   "nbconvert_exporter": "python",
   "pygments_lexer": "ipython3",
   "version": "3.9.12"
  }
 },
 "nbformat": 4,
 "nbformat_minor": 5
}
