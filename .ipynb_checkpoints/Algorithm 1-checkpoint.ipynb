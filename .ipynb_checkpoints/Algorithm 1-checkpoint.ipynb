{
 "cells": [
  {
   "cell_type": "code",
   "execution_count": 29,
   "id": "2693f295",
   "metadata": {},
   "outputs": [
    {
     "name": "stdout",
     "output_type": "stream",
     "text": [
      "0.4926006739395603\n"
     ]
    }
   ],
   "source": [
    "import numpy as np\n",
    "from numpy import random as rnd"
   ]
  },
  {
   "cell_type": "code",
   "execution_count": 192,
   "id": "b27c11b4",
   "metadata": {},
   "outputs": [
    {
     "name": "stdout",
     "output_type": "stream",
     "text": [
      "0.5641895835477563\n",
      "0.690988298942671\n",
      "0.5462742152960396\n"
     ]
    }
   ],
   "source": [
    "# Use dispersity (between 1 and 3) to choose which system to return a radius from\n",
    "\n",
    "def pickRadius(dispersity):\n",
    "    if (dispersity == 1):\n",
    "        return (1/((np.pi)**0.5))\n",
    "    if (dispersity == 2):\n",
    "        a = np.array([((3/(2*(np.pi)))**0.5), ((1/(2*(np.pi)))**0.5)])\n",
    "        return rnd.choice(a , p = [0.5, 0.5])\n",
    "    if (dispersity == 3):\n",
    "        a = np.array([((15/(16*(np.pi)))**0.5), ((5/(4*(np.pi)))**0.5)])\n",
    "        return rnd.choice(a , p = [0.8, 0.2])"
   ]
  },
  {
   "cell_type": "code",
   "execution_count": 393,
   "id": "4c92cfff",
   "metadata": {},
   "outputs": [],
   "source": [
    "#Class for creating a disc\n",
    "# Cooridinates represent middle of discs\n",
    "# choose 1-3 for dispersity\n",
    "\n",
    "class configuration(): \n",
    "    def __init__(self, dispersity):\n",
    "        self.radius = pickRadius(dispersity)\n",
    "        self.x = (rnd.rand()) * 20\n",
    "        self.y = (rnd.rand()) * 20\n",
    "        return"
   ]
  },
  {
   "cell_type": "code",
   "execution_count": 394,
   "id": "17c1a375",
   "metadata": {},
   "outputs": [
    {
     "name": "stdout",
     "output_type": "stream",
     "text": [
      "0\n",
      "1\n",
      "2\n",
      "3\n",
      "4\n"
     ]
    }
   ],
   "source": [
    "# should iterate attempts of N\n",
    "\n",
    "NumberOfAttempts = 200\n",
    "\n",
    "def addDiscs(N, dispersity):\n",
    "    outArray = np.array([])\n",
    "    for i in range(N):\n",
    "        situ[i] = configuration(dispersity)\n",
    "        #check hitting side\n",
    "        if situ \n",
    "        #checking hitting one before\n",
    "        #if it does, delete and continue\n",
    "        "
   ]
  },
  {
   "cell_type": "code",
   "execution_count": null,
   "id": "6e4a08f1",
   "metadata": {},
   "outputs": [],
   "source": []
  },
  {
   "cell_type": "code",
   "execution_count": null,
   "id": "047658bb",
   "metadata": {},
   "outputs": [],
   "source": []
  }
 ],
 "metadata": {
  "kernelspec": {
   "display_name": "Python 3 (ipykernel)",
   "language": "python",
   "name": "python3"
  },
  "language_info": {
   "codemirror_mode": {
    "name": "ipython",
    "version": 3
   },
   "file_extension": ".py",
   "mimetype": "text/x-python",
   "name": "python",
   "nbconvert_exporter": "python",
   "pygments_lexer": "ipython3",
   "version": "3.9.12"
  }
 },
 "nbformat": 4,
 "nbformat_minor": 5
}
