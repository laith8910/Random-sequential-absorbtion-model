{
 "cells": [
  {
   "cell_type": "code",
   "execution_count": 402,
   "id": "8d1ba528",
   "metadata": {},
   "outputs": [],
   "source": [
    "import numpy as np\n",
    "from numpy import random as rnd"
   ]
  },
  {
   "cell_type": "code",
   "execution_count": 403,
   "id": "b27c11b4",
   "metadata": {},
   "outputs": [],
   "source": [
    "# Use dispersity (between 1 and 3) to choose which system to return a radius from\n",
    "\n",
    "def pickRadius(dispersity):\n",
    "    if (dispersity == 1):\n",
    "        return (1/((np.pi)**0.5))\n",
    "    if (dispersity == 2):\n",
    "        a = np.array([((3/(2*(np.pi)))**0.5), ((1/(2*(np.pi)))**0.5)])\n",
    "        return rnd.choice(a , p = [0.5, 0.5])\n",
    "    if (dispersity == 3):\n",
    "        a = np.array([((15/(16*(np.pi)))**0.5), ((5/(4*(np.pi)))**0.5)])\n",
    "        return rnd.choice(a , p = [0.8, 0.2])"
   ]
  },
  {
   "cell_type": "code",
   "execution_count": 404,
   "id": "89eb050d",
   "metadata": {},
   "outputs": [],
   "source": [
    "#Class for creating a disc\n",
    "# Cooridinates represent middle of discs\n",
    "# choose 1-3 for dispersity\n",
    "\n",
    "class config(): \n",
    "    def __init__(self, dispersity):\n",
    "        self.radius = pickRadius(dispersity)\n",
    "        self.x = (rnd.rand()) * 20\n",
    "        self.y = (rnd.rand()) * 20\n",
    "        return"
   ]
  },
  {
   "cell_type": "code",
   "execution_count": 405,
   "id": "17c1a375",
   "metadata": {},
   "outputs": [],
   "source": [
    "# should iterate attempts of N\n",
    "\n",
    "NumberOfAttempts = 200\n",
    "#select dispersity scenario of 1-3\n",
    "\n",
    "def addDiscs(N, dispersity, overlapConstant = 1.0):\n",
    "    situ = np.empty(N)\n",
    "    for i in range(N):\n",
    "        situ[i] = config(dispersity)\n",
    "        #check if disc is hitting side\n",
    "        insideBox = (\n",
    "            ((situ[i].x - situ[i].radius > 0) and (situ[i].x + situ[i].radius < 20)) \n",
    "            and ((situ[i].y - situ[i].radius > 0) and (situ[i].y + situ[i].radius < 20))\n",
    "        )\n",
    "        #checking hitting the disc before\n",
    "        \n",
    "        notHitting = (\n",
    "            ((((situ[i].x - situ[i-1].x)**2) + ((situ[i].y - situ[i-1].y)**2))**0.5) >\n",
    "            (overlapConstant * (situ[i].radius + situ[i-1].radius))\n",
    "        )\n",
    "        # ignores the first disc placed\n",
    "        if (i == 0):\n",
    "            notHitting = true\n",
    "        # replaces object with 0 if it doesn't meet conditions\n",
    "        if (not insideBox or not notHitting):\n",
    "            situ[i] = 0\n",
    "            \n",
    "        # Returns completed array after end of loop\n",
    "    return situ\n",
    "        "
   ]
  },
  {
   "cell_type": "code",
   "execution_count": 406,
   "id": "bcb4f2cd",
   "metadata": {},
   "outputs": [
    {
     "ename": "TypeError",
     "evalue": "float() argument must be a string or a number, not 'config'",
     "output_type": "error",
     "traceback": [
      "\u001b[1;31m---------------------------------------------------------------------------\u001b[0m",
      "\u001b[1;31mTypeError\u001b[0m                                 Traceback (most recent call last)",
      "Input \u001b[1;32mIn [406]\u001b[0m, in \u001b[0;36m<cell line: 1>\u001b[1;34m()\u001b[0m\n\u001b[1;32m----> 1\u001b[0m \u001b[38;5;28mprint\u001b[39m (\u001b[43maddDiscs\u001b[49m\u001b[43m(\u001b[49m\u001b[38;5;241;43m10\u001b[39;49m\u001b[43m,\u001b[49m\u001b[43m \u001b[49m\u001b[38;5;241;43m1\u001b[39;49m\u001b[43m)\u001b[49m)\n",
      "Input \u001b[1;32mIn [405]\u001b[0m, in \u001b[0;36maddDiscs\u001b[1;34m(N, dispersity, overlapConstant)\u001b[0m\n\u001b[0;32m      7\u001b[0m situ \u001b[38;5;241m=\u001b[39m np\u001b[38;5;241m.\u001b[39mempty(N)\n\u001b[0;32m      8\u001b[0m \u001b[38;5;28;01mfor\u001b[39;00m i \u001b[38;5;129;01min\u001b[39;00m \u001b[38;5;28mrange\u001b[39m(N):\n\u001b[1;32m----> 9\u001b[0m     situ[i] \u001b[38;5;241m=\u001b[39m config(dispersity)\n\u001b[0;32m     10\u001b[0m     \u001b[38;5;66;03m#check if disc is hitting side\u001b[39;00m\n\u001b[0;32m     11\u001b[0m     insideBox \u001b[38;5;241m=\u001b[39m (\n\u001b[0;32m     12\u001b[0m         ((situ[i]\u001b[38;5;241m.\u001b[39mx \u001b[38;5;241m-\u001b[39m situ[i]\u001b[38;5;241m.\u001b[39mradius \u001b[38;5;241m>\u001b[39m \u001b[38;5;241m0\u001b[39m) \u001b[38;5;129;01mand\u001b[39;00m (situ[i]\u001b[38;5;241m.\u001b[39mx \u001b[38;5;241m+\u001b[39m situ[i]\u001b[38;5;241m.\u001b[39mradius \u001b[38;5;241m<\u001b[39m \u001b[38;5;241m20\u001b[39m)) \n\u001b[0;32m     13\u001b[0m         \u001b[38;5;129;01mand\u001b[39;00m ((situ[i]\u001b[38;5;241m.\u001b[39my \u001b[38;5;241m-\u001b[39m situ[i]\u001b[38;5;241m.\u001b[39mradius \u001b[38;5;241m>\u001b[39m \u001b[38;5;241m0\u001b[39m) \u001b[38;5;129;01mand\u001b[39;00m (situ[i]\u001b[38;5;241m.\u001b[39my \u001b[38;5;241m+\u001b[39m situ[i]\u001b[38;5;241m.\u001b[39mradius \u001b[38;5;241m<\u001b[39m \u001b[38;5;241m20\u001b[39m))\n\u001b[0;32m     14\u001b[0m     )\n",
      "\u001b[1;31mTypeError\u001b[0m: float() argument must be a string or a number, not 'config'"
     ]
    }
   ],
   "source": [
    "print (addDiscs(10, 1))"
   ]
  },
  {
   "cell_type": "code",
   "execution_count": 398,
   "id": "b2dbf270",
   "metadata": {},
   "outputs": [
    {
     "ename": "IndexError",
     "evalue": "index 0 is out of bounds for axis 0 with size 0",
     "output_type": "error",
     "traceback": [
      "\u001b[1;31m---------------------------------------------------------------------------\u001b[0m",
      "\u001b[1;31mIndexError\u001b[0m                                Traceback (most recent call last)",
      "Input \u001b[1;32mIn [398]\u001b[0m, in \u001b[0;36m<cell line: 3>\u001b[1;34m()\u001b[0m\n\u001b[0;32m      1\u001b[0m test \u001b[38;5;241m=\u001b[39m np\u001b[38;5;241m.\u001b[39marray([])\n\u001b[1;32m----> 3\u001b[0m test[\u001b[38;5;241m0\u001b[39m] \u001b[38;5;241m=\u001b[39m \u001b[38;5;241m5\u001b[39m\n\u001b[0;32m      5\u001b[0m \u001b[38;5;28mprint\u001b[39m(test)\n",
      "\u001b[1;31mIndexError\u001b[0m: index 0 is out of bounds for axis 0 with size 0"
     ]
    }
   ],
   "source": [
    "test = np.array([])\n",
    "\n",
    "test[0] = 5\n",
    "\n",
    "print(test)"
   ]
  }
 ],
 "metadata": {
  "kernelspec": {
   "display_name": "Python 3 (ipykernel)",
   "language": "python",
   "name": "python3"
  },
  "language_info": {
   "codemirror_mode": {
    "name": "ipython",
    "version": 3
   },
   "file_extension": ".py",
   "mimetype": "text/x-python",
   "name": "python",
   "nbconvert_exporter": "python",
   "pygments_lexer": "ipython3",
   "version": "3.9.12"
  }
 },
 "nbformat": 4,
 "nbformat_minor": 5
}
