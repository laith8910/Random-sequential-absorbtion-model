{
 "cells": [
  {
   "cell_type": "code",
   "execution_count": 10,
   "id": "b8313874",
   "metadata": {},
   "outputs": [],
   "source": [
    "import numpy as np\n",
    "from numpy import random as rnd"
   ]
  },
  {
   "cell_type": "code",
   "execution_count": 11,
   "id": "b27c11b4",
   "metadata": {},
   "outputs": [],
   "source": [
    "# Use dispersity (between 1 and 3) to choose which system to return a radius from\n",
    "\n",
    "def pickRadius(dispersity):\n",
    "    if (dispersity == 1):\n",
    "        return (1/((np.pi)**0.5))\n",
    "    if (dispersity == 2):\n",
    "        a = np.array([((3/(2*(np.pi)))**0.5), ((1/(2*(np.pi)))**0.5)])\n",
    "        return rnd.choice(a , p = [0.5, 0.5])\n",
    "    if (dispersity == 3):\n",
    "        a = np.array([((15/(16*(np.pi)))**0.5), ((5/(4*(np.pi)))**0.5)])\n",
    "        return rnd.choice(a , p = [0.8, 0.2])"
   ]
  },
  {
   "cell_type": "code",
   "execution_count": 12,
   "id": "a47d5b26",
   "metadata": {},
   "outputs": [],
   "source": [
    "#Class for creating a disc\n",
    "# Cooridinates represent middle of discs\n",
    "# choose 1-3 for dispersity\n",
    "\n",
    "class config(): \n",
    "    def __init__(self, dispersity):\n",
    "        self.radius = pickRadius(dispersity)\n",
    "        self.x = (rnd.rand()) * 20\n",
    "        self.y = (rnd.rand()) * 20\n",
    "        return"
   ]
  },
  {
   "cell_type": "code",
   "execution_count": 13,
   "id": "17c1a375",
   "metadata": {},
   "outputs": [],
   "source": [
    "# iterates attempts of N\n",
    "#select dispersity scenario of 1-3\n",
    "\n",
    "def addDiscs(N, dispersity, overlapConstant = 1.0):\n",
    "    #defines new empty array\n",
    "    situ = np.array([])\n",
    "    \n",
    "    for i in range(N):\n",
    "        a = config(dispersity)\n",
    "        #checks if disc is hitting sides\n",
    "        insideBox = (\n",
    "            ((a.x - a.radius > 0) and (a.x + a.radius < 20)) \n",
    "            and ((a.y - a.radius > 0) and (a.y + a.radius < 20))\n",
    "        )\n",
    "        \n",
    "        # function to apply across array to check if new disc is hitting any exsisting discs\n",
    "        def notHitting(a2):\n",
    "            return (((((a.x - a2.x)**2) + ((a.y - a2.y)**2))**0.5) >\n",
    "                (overlapConstant * (a.radius + a2.radius)))\n",
    "        applyAll = np.vectorize(notHitting)\n",
    "        \n",
    "        #checking hitting any other disc, accounting for its the first disc to be placed\n",
    "        if (situ.size == 0):\n",
    "            notHitting = True\n",
    "        else:\n",
    "            hittingArray = applyAll(situ)\n",
    "            notHitting = np.all(hittingArray)\n",
    "        \n",
    "        # appends disc to array if it meets conditions\n",
    "        if (notHitting and insideBox):\n",
    "            situ = np.append(situ, a)\n",
    "            \n",
    "        # Returns completed array after end of loop\n",
    "    \n",
    "    # Returns completed array after end of loop\n",
    "    return situ\n",
    "        "
   ]
  },
  {
   "cell_type": "code",
   "execution_count": 14,
   "id": "f7e9e488",
   "metadata": {
    "scrolled": true
   },
   "outputs": [
    {
     "name": "stdout",
     "output_type": "stream",
     "text": [
      "9\n",
      "[<__main__.config object at 0x00000178ABE59550>\n",
      " <__main__.config object at 0x00000178ABE596A0>\n",
      " <__main__.config object at 0x00000178ABE59130>\n",
      " <__main__.config object at 0x00000178ABE59160>\n",
      " <__main__.config object at 0x00000178ABE598E0>\n",
      " <__main__.config object at 0x00000178ABE59FA0>\n",
      " <__main__.config object at 0x00000178ABE59460>\n",
      " <__main__.config object at 0x00000178ABE59CD0>\n",
      " <__main__.config object at 0x00000178ABE595E0>]\n"
     ]
    }
   ],
   "source": [
    "testArray = addDiscs(10,1)\n",
    "\n",
    "print(testArray.size)\n",
    "print(testArray)"
   ]
  },
  {
   "cell_type": "code",
   "execution_count": 15,
   "id": "d3281efb",
   "metadata": {},
   "outputs": [],
   "source": [
    "# defines a class for a new random point on the square\n",
    "class point(): \n",
    "    def __init__(self):\n",
    "        #defines random x and y coordinates between 0 and 20\n",
    "        self.x = (rnd.rand()) * 20\n",
    "        self.y = (rnd.rand()) * 20\n",
    "        return\n",
    "    # a function that takes an array of discs and determines if the point is within any radius\n",
    "    def inAnyCircle(self, discArray):\n",
    "        for i in discArray: \n",
    "            inCircle = ((self.x - i.x)**2 + (self.y - i.y)**2)**0.5 < i.radius\n",
    "            if (inCircle == True):\n",
    "                return True\n",
    "        return False\n",
    "            \n",
    "def packingFraction(discArray, NSample):\n",
    "    validCount = 0\n",
    "    for i in range(NSample):\n",
    "        singlePoint = point()\n",
    "        if (singlePoint.inAnyCircle(discArray) == True):\n",
    "            validCount += 1\n",
    "    return validCount / NSample\n",
    "\n",
    "#need to both regenerate the discs and points every time, so below function is invalid\n",
    "\n",
    "def averagedPackingFraction(NReps, discArray, NSample):\n",
    "    fractions = np.array([])\n",
    "    for i in range(NReps):\n",
    "        fractions = np.append(fractions, (packingFraction(discArray, NSample)))\n",
    "    return np.mean(fractions)\n"
   ]
  },
  {
   "cell_type": "code",
   "execution_count": 16,
   "id": "8124c529",
   "metadata": {},
   "outputs": [
    {
     "data": {
      "text/plain": [
       "0.02"
      ]
     },
     "execution_count": 16,
     "metadata": {},
     "output_type": "execute_result"
    }
   ],
   "source": [
    "packingFraction(testArray, 200)"
   ]
  },
  {
   "cell_type": "code",
   "execution_count": 17,
   "id": "c5efb6af",
   "metadata": {},
   "outputs": [],
   "source": [
    "def combinedFunction(dispersity, overlapConstant, NParticles, NSample, NRep):\n",
    "    fractions = np.array([])\n",
    "    for i in range(NRep):\n",
    "        discArray = addDiscs(NParticles, dispersity, overlapConstant)\n",
    "        fractions = np.append(fractions, (packingFraction(discArray, NSample)))\n",
    "    return np.mean(fractions)\n",
    "    "
   ]
  },
  {
   "cell_type": "code",
   "execution_count": 18,
   "id": "738b7969",
   "metadata": {},
   "outputs": [
    {
     "data": {
      "text/plain": [
       "0.38219999999999993"
      ]
     },
     "execution_count": 18,
     "metadata": {},
     "output_type": "execute_result"
    }
   ],
   "source": [
    "combinedFunction(3, 1, 1000, 100, 10)"
   ]
  }
 ],
 "metadata": {
  "kernelspec": {
   "display_name": "Python 3 (ipykernel)",
   "language": "python",
   "name": "python3"
  },
  "language_info": {
   "codemirror_mode": {
    "name": "ipython",
    "version": 3
   },
   "file_extension": ".py",
   "mimetype": "text/x-python",
   "name": "python",
   "nbconvert_exporter": "python",
   "pygments_lexer": "ipython3",
   "version": "3.9.12"
  }
 },
 "nbformat": 4,
 "nbformat_minor": 5
}
