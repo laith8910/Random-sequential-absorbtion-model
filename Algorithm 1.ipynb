{
 "cells": [
  {
   "cell_type": "code",
   "execution_count": 10,
   "id": "b8313874",
   "metadata": {},
   "outputs": [],
   "source": [
    "import numpy as np\n",
    "from numpy import random as rnd"
   ]
  },
  {
   "cell_type": "code",
   "execution_count": 11,
   "id": "b27c11b4",
   "metadata": {},
   "outputs": [],
   "source": [
    "# Use dispersity (between 1 and 3) to choose which system to return a radius from\n",
    "\n",
    "def pickRadius(dispersity):\n",
    "    if (dispersity == 1):\n",
    "        return (1/((np.pi)**0.5))\n",
    "    if (dispersity == 2):\n",
    "        a = np.array([((3/(2*(np.pi)))**0.5), ((1/(2*(np.pi)))**0.5)])\n",
    "        return rnd.choice(a , p = [0.5, 0.5])\n",
    "    if (dispersity == 3):\n",
    "        a = np.array([((15/(16*(np.pi)))**0.5), ((5/(4*(np.pi)))**0.5)])\n",
    "        return rnd.choice(a , p = [0.8, 0.2])"
   ]
  },
  {
   "cell_type": "code",
   "execution_count": 12,
   "id": "a47d5b26",
   "metadata": {},
   "outputs": [],
   "source": [
    "#Class for creating a disc\n",
    "# Cooridinates represent middle of discs\n",
    "# choose 1-3 for dispersity\n",
    "\n",
    "class config(): \n",
    "    def __init__(self, dispersity):\n",
    "        self.radius = pickRadius(dispersity)\n",
    "        self.x = (rnd.rand()) * 20\n",
    "        self.y = (rnd.rand()) * 20\n",
    "        return"
   ]
  },
  {
   "cell_type": "code",
   "execution_count": 13,
   "id": "17c1a375",
   "metadata": {},
   "outputs": [],
   "source": [
    "# iterates attempts of N\n",
    "#select dispersity scenario of 1-3\n",
    "\n",
    "def addDiscs(N, dispersity, overlapConstant = 1.0):\n",
    "    #defines new empty array\n",
    "    situ = np.array([])\n",
    "    \n",
    "    for i in range(N):\n",
    "        a = config(dispersity)\n",
    "        #checks if disc is hitting sides\n",
    "        insideBox = (\n",
    "            ((a.x - a.radius > 0) and (a.x + a.radius < 20)) \n",
    "            and ((a.y - a.radius > 0) and (a.y + a.radius < 20))\n",
    "        )\n",
    "        \n",
    "        # function to apply across array to check if new disc is hitting any exsisting discs\n",
    "        def notHitting(a2):\n",
    "            return (((((a.x - a2.x)**2) + ((a.y - a2.y)**2))**0.5) >\n",
    "                (overlapConstant * (a.radius + a2.radius)))\n",
    "        applyAll = np.vectorize(notHitting)\n",
    "        \n",
    "        #checking hitting any other disc, accounting for its the first disc to be placed\n",
    "        if (situ.size == 0):\n",
    "            notHitting = True\n",
    "        else:\n",
    "            hittingArray = applyAll(situ)\n",
    "            notHitting = np.all(hittingArray)\n",
    "        \n",
    "        # appends disc to array if it meets conditions\n",
    "        if (notHitting and insideBox):\n",
    "            situ = np.append(situ, a)\n",
    "            \n",
    "        # Returns completed array after end of loop\n",
    "    \n",
    "    # Returns completed array after end of loop\n",
    "    return situ\n",
    "        "
   ]
  },
  {
   "cell_type": "code",
   "execution_count": 14,
   "id": "f7e9e488",
   "metadata": {
    "scrolled": true
   },
   "outputs": [
    {
     "name": "stdout",
     "output_type": "stream",
     "text": [
      "9\n",
      "[<__main__.config object at 0x00000178ABE59550>\n",
      " <__main__.config object at 0x00000178ABE596A0>\n",
      " <__main__.config object at 0x00000178ABE59130>\n",
      " <__main__.config object at 0x00000178ABE59160>\n",
      " <__main__.config object at 0x00000178ABE598E0>\n",
      " <__main__.config object at 0x00000178ABE59FA0>\n",
      " <__main__.config object at 0x00000178ABE59460>\n",
      " <__main__.config object at 0x00000178ABE59CD0>\n",
      " <__main__.config object at 0x00000178ABE595E0>]\n"
     ]
    }
   ],
   "source": [
    "testArray = addDiscs(10,1)\n",
    "\n",
    "print(testArray.size)\n",
    "print(testArray)"
   ]
  },
  {
   "cell_type": "code",
   "execution_count": 15,
   "id": "d3281efb",
   "metadata": {},
   "outputs": [],
   "source": [
    "# defines a class for a new random point on the square\n",
    "class point(): \n",
    "    def __init__(self):\n",
    "        #defines random x and y coordinates between 0 and 20\n",
    "        self.x = (rnd.rand()) * 20\n",
    "        self.y = (rnd.rand()) * 20\n",
    "        return\n",
    "    # a function that takes an array of discs and determines if the point is within any radius\n",
    "    def inAnyCircle(self, discArray):\n",
    "        for i in discArray: \n",
    "            inCircle = ((self.x - i.x)**2 + (self.y - i.y)**2)**0.5 < i.radius\n",
    "            if (inCircle == True):\n",
    "                return True\n",
    "        return False\n",
    "            \n",
    "def packingFraction(discArray, NSample):\n",
    "    validCount = 0\n",
    "    for i in range(NSample):\n",
    "        singlePoint = point()\n",
    "        if (singlePoint.inAnyCircle(discArray) == True):\n",
    "            validCount += 1\n",
    "    return validCount / NSample\n",
    "\n",
    "#need to both regenerate the discs and points every time, so below function is invalid\n",
    "\n",
    "def averagedPackingFraction(NReps, discArray, NSample):\n",
    "    fractions = np.array([])\n",
    "    for i in range(NReps):\n",
    "        fractions = np.append(fractions, (packingFraction(discArray, NSample)))\n",
    "    return np.mean(fractions)\n"
   ]
  },
  {
   "cell_type": "code",
   "execution_count": 16,
   "id": "8124c529",
   "metadata": {},
   "outputs": [
    {
     "data": {
      "text/plain": "0.02"
     },
     "execution_count": 16,
     "metadata": {},
     "output_type": "execute_result"
    }
   ],
   "source": [
    "packingFraction(testArray, 200)"
   ]
  },
  {
   "cell_type": "code",
   "execution_count": 17,
   "id": "c5efb6af",
   "metadata": {},
   "outputs": [],
   "source": [
    "def combinedFunction(dispersity, overlapConstant, NParticles, NSample, NRep):\n",
    "    fractions = np.array([])\n",
    "    for i in range(NRep):\n",
    "        discArray = addDiscs(NParticles, dispersity, overlapConstant)\n",
    "        fractions = np.append(fractions, (packingFraction(discArray, NSample)))\n",
    "    return np.mean(fractions)\n",
    "    "
   ]
  },
  {
   "cell_type": "code",
   "execution_count": 18,
   "id": "738b7969",
   "metadata": {},
   "outputs": [
    {
     "data": {
      "text/plain": "0.38219999999999993"
     },
     "execution_count": 18,
     "metadata": {},
     "output_type": "execute_result"
    }
   ],
   "source": [
    "combinedFunction(3, 1, 1000, 100, 10)"
   ]
  },
  {
   "cell_type": "markdown",
   "source": [],
   "metadata": {
    "collapsed": false
   }
  },
  {
   "cell_type": "code",
   "execution_count": 35,
   "outputs": [
    {
     "ename": "IndexError",
     "evalue": "too many indices for array: array is 1-dimensional, but 2 were indexed",
     "output_type": "error",
     "traceback": [
      "\u001B[1;31m---------------------------------------------------------------------------\u001B[0m",
      "\u001B[1;31mIndexError\u001B[0m                                Traceback (most recent call last)",
      "Input \u001B[1;32mIn [35]\u001B[0m, in \u001B[0;36m<cell line: 2>\u001B[1;34m()\u001B[0m\n\u001B[0;32m      1\u001B[0m alphaPlot \u001B[38;5;241m=\u001B[39m np\u001B[38;5;241m.\u001B[39marray([\u001B[38;5;241m0.4\u001B[39m, \u001B[38;5;241m0.6\u001B[39m, \u001B[38;5;241m0.7\u001B[39m, \u001B[38;5;241m0.8\u001B[39m, \u001B[38;5;241m0.9\u001B[39m, \u001B[38;5;241m1.0\u001B[39m],[])\n\u001B[0;32m      2\u001B[0m \u001B[38;5;28;01mfor\u001B[39;00m i \u001B[38;5;129;01min\u001B[39;00m \u001B[38;5;28mrange\u001B[39m(\u001B[38;5;28mlen\u001B[39m(alphaPlot)):\n\u001B[1;32m----> 3\u001B[0m     alphaPlot[i,\u001B[38;5;241m1\u001B[39m] \u001B[38;5;241m=\u001B[39m combinedFunction(\u001B[38;5;241m1\u001B[39m,\u001B[43malphaPlot\u001B[49m\u001B[43m[\u001B[49m\u001B[38;5;241;43m0\u001B[39;49m\u001B[43m,\u001B[49m\u001B[43m \u001B[49m\u001B[43mi\u001B[49m\u001B[43m]\u001B[49m,\u001B[38;5;241m50\u001B[39m, \u001B[38;5;241m200\u001B[39m,\u001B[38;5;241m10\u001B[39m)\n\u001B[0;32m      4\u001B[0m \u001B[38;5;28mprint\u001B[39m(alphaPlot)\n",
      "\u001B[1;31mIndexError\u001B[0m: too many indices for array: array is 1-dimensional, but 2 were indexed"
     ]
    }
   ],
   "source": [
    "alphaPlot = np.array([0.4, 0.6, 0.7, 0.8, 0.9, 1.0],[])\n",
    "for i in range(len(alphaPlot)):\n",
    "    alphaPlot[i,1] = combinedFunction(1,alphaPlot[0, i],50, 200,10)\n",
    "print(alphaPlot)\n",
    "\n"
   ],
   "metadata": {
    "collapsed": false
   }
  },
  {
   "cell_type": "code",
   "execution_count": 37,
   "outputs": [
    {
     "data": {
      "text/plain": "<Figure size 432x288 with 1 Axes>",
      "image/png": "[encoded data removed]"
     },
     "metadata": {
      "needs_background": "light"
     },
     "output_type": "display_data"
    }
   ],
   "source": [
    "# Set the values for N and alpha\n",
    "N_values = [50, 100, 200, 400]\n",
    "alpha_values = np.arange(0.4, 1.1, 0.1)\n",
    "\n",
    "# Set the value for Nrep and Nsample\n",
    "Nrep = 10\n",
    "Nsample = 200\n",
    "\n",
    "# Initialize a list to store the packing fractions\n",
    "packing_fractions = []\n",
    "\n",
    "# Iterate over the values of N\n",
    "for N in N_values:\n",
    "    # Initialize a list to store the packing fractions for this value of N\n",
    "    packing_fractions_N = []\n",
    "\n",
    "    # Iterate over the values of alpha\n",
    "    for alpha in alpha_values:\n",
    "        # Calculate the packing fraction for this value of N and alpha\n",
    "        f = combinedFunction(1, alpha, N, Nsample, Nrep)\n",
    "\n",
    "        # Append the packing fraction to the list\n",
    "        packing_fractions_N.append(f)\n",
    "\n",
    "    # Append the list of packing fractions for this value of N to the overall list\n",
    "    packing_fractions.append(packing_fractions_N)\n",
    "\n",
    "# Plot the packing fraction as a function of alpha for each value of N\n",
    "for i, N in enumerate(N_values):\n",
    "    plt.plot(alpha_values, packing_fractions[i], label='N = {}'.format(N))\n",
    "\n",
    "# Add a legend and labels to the plot\n",
    "plt.legend()\n",
    "plt.xlabel('Alpha')\n",
    "plt.ylabel('Packing fraction')\n",
    "\n",
    "# Show the plot\n",
    "plt.show()\n"
   ],
   "metadata": {
    "collapsed": false
   }
  },
  {
   "cell_type": "code",
   "execution_count": null,
   "outputs": [],
   "source": [],
   "metadata": {
    "collapsed": false
   }
  }
 ],
 "metadata": {
  "kernelspec": {
   "display_name": "Python 3 (ipykernel)",
   "language": "python",
   "name": "python3"
  },
  "language_info": {
   "codemirror_mode": {
    "name": "ipython",
    "version": 3
   },
   "file_extension": ".py",
   "mimetype": "text/x-python",
   "name": "python",
   "nbconvert_exporter": "python",
   "pygments_lexer": "ipython3",
   "version": "3.9.12"
  }
 },
 "nbformat": 4,
 "nbformat_minor": 5
}
