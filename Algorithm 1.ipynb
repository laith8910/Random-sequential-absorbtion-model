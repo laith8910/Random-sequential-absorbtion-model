{
 "cells": [
  {
   "cell_type": "markdown",
   "source": [
    "# Random Sequential Absorption Model"
   ],
   "metadata": {
    "collapsed": false
   }
  },
  {
   "cell_type": "code",
   "execution_count": 42,
   "id": "b8313874",
   "metadata": {},
   "outputs": [],
   "source": [
    "import numpy as np\n",
    "from numpy import random as rnd\n",
    "import matplotlib as mpl\n",
    "import matplotlib.pyplot as plt\n"
   ]
  },
  {
   "cell_type": "markdown",
   "source": [
    "### Setting the radius\n",
    "*Based off of the dispersity setting*"
   ],
   "metadata": {
    "collapsed": false
   }
  },
  {
   "cell_type": "code",
   "execution_count": 43,
   "id": "b27c11b4",
   "metadata": {},
   "outputs": [],
   "source": [
    "# Use dispersity (between 1 and 3) to choose which system to return a radius from\n",
    "\n",
    "def pickRadius(dispersity):\n",
    "    if (dispersity == 1):\n",
    "        return (1/((np.pi)**0.5))\n",
    "    if (dispersity == 2):\n",
    "        a = np.array([((3/(2*(np.pi)))**0.5), ((1/(2*(np.pi)))**0.5)])\n",
    "        return rnd.choice(a , p = [0.5, 0.5])\n",
    "    if (dispersity == 3):\n",
    "        a = np.array([((15/(16*(np.pi)))**0.5), ((5/(4*(np.pi)))**0.5)])\n",
    "        return rnd.choice(a , p = [0.8, 0.2])"
   ]
  },
  {
   "cell_type": "markdown",
   "source": [
    "### Defining a class to represents discs in a space"
   ],
   "metadata": {
    "collapsed": false
   }
  },
  {
   "cell_type": "code",
   "execution_count": 44,
   "id": "a47d5b26",
   "metadata": {},
   "outputs": [],
   "source": [
    "#Class for creating a disc\n",
    "# Cooridinates represent middle of discs\n",
    "# choose 1-3 for dispersity\n",
    "\n",
    "class config(): \n",
    "    def __init__(self, dispersity):\n",
    "        self.radius = pickRadius(dispersity)\n",
    "        self.x = (rnd.rand()) * 20\n",
    "        self.y = (rnd.rand()) * 20\n",
    "        return"
   ]
  },
  {
   "cell_type": "markdown",
   "source": [
    "### Creating an array of discs that meet the space conditions\n",
    "*Ensuring discs are within the sample area and not intercepting beyond the acceptable parameters*"
   ],
   "metadata": {
    "collapsed": false
   }
  },
  {
   "cell_type": "code",
   "execution_count": 45,
   "id": "17c1a375",
   "metadata": {},
   "outputs": [],
   "source": [
    "# iterates attempts of N\n",
    "#select dispersity scenario of 1-3\n",
    "\n",
    "def addDiscs(N, dispersity, overlapConstant = 1.0):\n",
    "    #defines new empty array\n",
    "    situ = np.array([])\n",
    "    \n",
    "    for i in range(N):\n",
    "        a = config(dispersity)\n",
    "        #checks if disc is hitting sides\n",
    "        insideBox = (\n",
    "            ((a.x - a.radius > 0) and (a.x + a.radius < 20)) \n",
    "            and ((a.y - a.radius > 0) and (a.y + a.radius < 20))\n",
    "        )\n",
    "        \n",
    "        # function to apply across array to check if new disc is hitting any exsisting discs\n",
    "        def notHitting(a2):\n",
    "            return (((((a.x - a2.x)**2) + ((a.y - a2.y)**2))**0.5) >\n",
    "                (overlapConstant * (a.radius + a2.radius)))\n",
    "        applyAll = np.vectorize(notHitting)\n",
    "        \n",
    "        #checking hitting any other disc, accounting for its the first disc to be placed\n",
    "        if (situ.size == 0):\n",
    "            notHitting = True\n",
    "        else:\n",
    "            hittingArray = applyAll(situ)\n",
    "            notHitting = np.all(hittingArray)\n",
    "        \n",
    "        # appends disc to array if it meets conditions\n",
    "        if (notHitting and insideBox):\n",
    "            situ = np.append(situ, a)\n",
    "            \n",
    "        # Returns completed array after end of loop\n",
    "    \n",
    "    # Returns completed array after end of loop\n",
    "    return situ\n",
    "        "
   ]
  },
  {
   "cell_type": "code",
   "execution_count": 46,
   "id": "f7e9e488",
   "metadata": {
    "scrolled": true
   },
   "outputs": [
    {
     "name": "stdout",
     "output_type": "stream",
     "text": [
      "10\n",
      "[<__main__.config object at 0x000001DB12DDC850>\n",
      " <__main__.config object at 0x000001DB12F76E20>\n",
      " <__main__.config object at 0x000001DB12F76A00>\n",
      " <__main__.config object at 0x000001DB12F76AF0>\n",
      " <__main__.config object at 0x000001DB12F769A0>\n",
      " <__main__.config object at 0x000001DB12F76B20>\n",
      " <__main__.config object at 0x000001DB12F767F0>\n",
      " <__main__.config object at 0x000001DB12F76CD0>\n",
      " <__main__.config object at 0x000001DB12F76D00>\n",
      " <__main__.config object at 0x000001DB12F76F70>]\n"
     ]
    }
   ],
   "source": [
    "testArray = addDiscs(10,1)\n",
    "\n",
    "print(testArray.size)\n",
    "print(testArray)"
   ]
  },
  {
   "cell_type": "markdown",
   "source": [
    "### Measuring the packing fraction with a Monte Carlo Simulation"
   ],
   "metadata": {
    "collapsed": false
   }
  },
  {
   "cell_type": "code",
   "execution_count": 47,
   "id": "d3281efb",
   "metadata": {},
   "outputs": [],
   "source": [
    "# defines a class for a new random point on the square\n",
    "class point(): \n",
    "    def __init__(self):\n",
    "        #defines random x and y coordinates between 0 and 20\n",
    "        self.x = (rnd.rand()) * 20\n",
    "        self.y = (rnd.rand()) * 20\n",
    "        return\n",
    "    # a function that takes an array of discs and determines if the point is within any radius\n",
    "    def inAnyCircle(self, discArray):\n",
    "        for i in discArray: \n",
    "            inCircle = ((self.x - i.x)**2 + (self.y - i.y)**2)**0.5 < i.radius\n",
    "            if (inCircle == True):\n",
    "                return True\n",
    "        return False\n",
    "            \n",
    "def packingFraction(discArray, NSample):\n",
    "    validCount = 0\n",
    "    for i in range(NSample):\n",
    "        singlePoint = point()\n",
    "        if (singlePoint.inAnyCircle(discArray) == True):\n",
    "            validCount += 1\n",
    "    return validCount / NSample"
   ]
  },
  {
   "cell_type": "code",
   "execution_count": 48,
   "id": "8124c529",
   "metadata": {},
   "outputs": [
    {
     "data": {
      "text/plain": "0.03"
     },
     "execution_count": 48,
     "metadata": {},
     "output_type": "execute_result"
    }
   ],
   "source": [
    "packingFraction(testArray, 200)"
   ]
  },
  {
   "cell_type": "markdown",
   "source": [
    "### Simulating samples to find the answer\n",
    "*integrating the above code into a single function to find the packing fraction over many repetitions*"
   ],
   "metadata": {
    "collapsed": false
   }
  },
  {
   "cell_type": "code",
   "execution_count": 49,
   "id": "c5efb6af",
   "metadata": {},
   "outputs": [],
   "source": [
    "def combinedFunction(dispersity, overlapConstant, NParticles, NSample, NRep):\n",
    "    fractions = np.array([])\n",
    "    for i in range(NRep):\n",
    "        discArray = addDiscs(NParticles, dispersity, overlapConstant)\n",
    "        fractions = np.append(fractions, (packingFraction(discArray, NSample)))\n",
    "    return np.mean(fractions)\n",
    "    "
   ]
  },
  {
   "cell_type": "code",
   "execution_count": 50,
   "id": "738b7969",
   "metadata": {},
   "outputs": [
    {
     "data": {
      "text/plain": "0.359"
     },
     "execution_count": 50,
     "metadata": {},
     "output_type": "execute_result"
    }
   ],
   "source": [
    "combinedFunction(3, 1, 1000, 100, 10)"
   ]
  },
  {
   "cell_type": "markdown",
   "source": [
    "### Making the configuration files"
   ],
   "metadata": {
    "collapsed": false
   }
  },
  {
   "cell_type": "code",
   "execution_count": 51,
   "outputs": [],
   "source": [
    "def configFile(dispersity, N, alpha):\n",
    "    array = addDiscs(N, dispersity, alpha)\n",
    "    locations = np.zeros((array.size, 3))\n",
    "\n",
    "# Creates a 2D array of the radii and coordinates of the discs\n",
    "    for i in range(array.size):\n",
    "        locations[i,0] = array[i].radius\n",
    "        locations[i,1] = array[i].x\n",
    "        locations[i,2] = array[i].y\n",
    "\n",
    "    file = open('{0} - {1}'.format(alpha,N), 'w+')\n",
    "\n",
    "    for x in range(array.size):\n",
    "        file.write('{0} {1} {2}\\n'.format(locations[x,0], locations[x,1], locations[x,2]))\n",
    "\n",
    "    return\n",
    "\n",
    "test = configFile(2,100,0.4)\n",
    "test2 = configFile(1,300,0.8)\n",
    "test3 = configFile(3,100,1)"
   ],
   "metadata": {
    "collapsed": false
   }
  },
  {
   "cell_type": "markdown",
   "source": [
    "## Plots"
   ],
   "metadata": {
    "collapsed": false
   }
  },
  {
   "cell_type": "code",
   "execution_count": 80,
   "outputs": [],
   "source": [
    "def createPlot(N):\n",
    "    # Set the values for N and alpha\n",
    "    N_values = [50, 100, 200, 400]\n",
    "    alpha_values = np.arange(0.4, 1.1, 0.1)\n",
    "\n",
    "    # Set the value for Nrep and Nsample\n",
    "    Nrep = 10\n",
    "    Nsample = 200\n",
    "\n",
    "#   Initialize a list to store the packing fractions\n",
    "\n",
    "    for i in np.arange(1,4):\n",
    "        y = np.array([])\n",
    "        for j in alpha_values:\n",
    "            ypoint = combinedFunction(i,j, N, Nsample, Nrep)\n",
    "            y = np.append(y, ypoint)\n",
    "        plt.plot(alpha_values, y, label= ('Dispersity'+ str(i)))\n",
    "\n",
    "    # Add a legend and labels to the plot\n",
    "    plt.legend()\n",
    "    plt.title('N= ' + str(N))\n",
    "    plt.xlabel('Alpha')\n",
    "    plt.ylabel('Packing fraction')\n",
    "\n",
    "    # Show the plot\n",
    "    plt.show()\n",
    "\n",
    "\n"
   ],
   "metadata": {
    "collapsed": false
   }
  },
  {
   "cell_type": "code",
   "execution_count": 86,
   "outputs": [
    {
     "data": {
      "text/plain": "<Figure size 432x288 with 1 Axes>",
      "image/png": "[encoded data removed]"
     },
     "metadata": {
      "needs_background": "light"
     },
     "output_type": "display_data"
    }
   ],
   "source": [
    "createPlot(400)"
   ],
   "metadata": {
    "collapsed": false
   }
  },
  {
   "cell_type": "code",
   "execution_count": 53,
   "outputs": [],
   "source": [],
   "metadata": {
    "collapsed": false
   }
  }
 ],
 "metadata": {
  "kernelspec": {
   "display_name": "Python 3 (ipykernel)",
   "language": "python",
   "name": "python3"
  },
  "language_info": {
   "codemirror_mode": {
    "name": "ipython",
    "version": 3
   },
   "file_extension": ".py",
   "mimetype": "text/x-python",
   "name": "python",
   "nbconvert_exporter": "python",
   "pygments_lexer": "ipython3",
   "version": "3.9.12"
  }
 },
 "nbformat": 4,
 "nbformat_minor": 5
}
