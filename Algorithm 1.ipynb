{
 "cells": [
  {
   "cell_type": "code",
   "execution_count": 480,
   "id": "b8313874",
   "metadata": {},
   "outputs": [],
   "source": [
    "import numpy as np\n",
    "from numpy import random as rnd"
   ]
  },
  {
   "cell_type": "code",
   "execution_count": 481,
   "id": "b27c11b4",
   "metadata": {},
   "outputs": [],
   "source": [
    "# Use dispersity (between 1 and 3) to choose which system to return a radius from\n",
    "\n",
    "def pickRadius(dispersity):\n",
    "    if (dispersity == 1):\n",
    "        return (1/((np.pi)**0.5))\n",
    "    if (dispersity == 2):\n",
    "        a = np.array([((3/(2*(np.pi)))**0.5), ((1/(2*(np.pi)))**0.5)])\n",
    "        return rnd.choice(a , p = [0.5, 0.5])\n",
    "    if (dispersity == 3):\n",
    "        a = np.array([((15/(16*(np.pi)))**0.5), ((5/(4*(np.pi)))**0.5)])\n",
    "        return rnd.choice(a , p = [0.8, 0.2])"
   ]
  },
  {
   "cell_type": "code",
   "execution_count": 482,
   "id": "a47d5b26",
   "metadata": {},
   "outputs": [],
   "source": [
    "#Class for creating a disc\n",
    "# Cooridinates represent middle of discs\n",
    "# choose 1-3 for dispersity\n",
    "\n",
    "class config(): \n",
    "    def __init__(self, dispersity):\n",
    "        self.radius = pickRadius(dispersity)\n",
    "        self.x = (rnd.rand()) * 20\n",
    "        self.y = (rnd.rand()) * 20\n",
    "        return"
   ]
  },
  {
   "cell_type": "code",
   "execution_count": 483,
   "id": "17c1a375",
   "metadata": {},
   "outputs": [],
   "source": [
    "# iterates attempts of N\n",
    "#select dispersity scenario of 1-3\n",
    "\n",
    "def addDiscs(N, dispersity, overlapConstant = 1.0):\n",
    "    #defines new empty array\n",
    "    situ = np.array([])\n",
    "    \n",
    "    for i in range(N):\n",
    "        a = config(dispersity)\n",
    "        #checks if disc is hitting sides\n",
    "        insideBox = (\n",
    "            ((a.x - a.radius > 0) and (a.x + a.radius < 20)) \n",
    "            and ((a.y - a.radius > 0) and (a.y + a.radius < 20))\n",
    "        )\n",
    "        \n",
    "        # function to apply across array to check if new disc is hitting any exsisting discs\n",
    "        def notHitting(a2):\n",
    "            return (((((a.x - a2.x)**2) + ((a.y - a2.y)**2))**0.5) >\n",
    "                (overlapConstant * (a.radius + a2.radius)))\n",
    "        applyAll = np.vectorize(notHitting)\n",
    "        \n",
    "        #checking hitting any other disc, accounting for its the first disc to be placed\n",
    "        if (situ.size == 0):\n",
    "            notHitting = True\n",
    "        else:\n",
    "            hittingArray = applyAll(situ)\n",
    "            notHitting = np.all(hittingArray)\n",
    "        \n",
    "        # appends disc to array if it meets conditions\n",
    "        if (notHitting and insideBox):\n",
    "            situ = np.append(situ, a)\n",
    "            \n",
    "        # Returns completed array after end of loop\n",
    "    \n",
    "    # Returns completed array after end of loop\n",
    "    return situ\n",
    "        "
   ]
  },
  {
   "cell_type": "code",
   "execution_count": 484,
   "id": "f7e9e488",
   "metadata": {
    "scrolled": true
   },
   "outputs": [
    {
     "name": "stdout",
     "output_type": "stream",
     "text": [
      "5\n",
      "[<__main__.config object at 0x000001D964F88A90>\n",
      " <__main__.config object at 0x000001D964F88EE0>\n",
      " <__main__.config object at 0x000001D964F88880>\n",
      " <__main__.config object at 0x000001D964F88430>\n",
      " <__main__.config object at 0x000001D964F88C40>]\n"
     ]
    }
   ],
   "source": [
    "testArray = addDiscs(10,1)\n",
    "\n",
    "print(testArray.size)\n",
    "print(testArray)"
   ]
  },
  {
   "cell_type": "code",
   "execution_count": 520,
   "id": "d3281efb",
   "metadata": {},
   "outputs": [],
   "source": [
    "# defines a class for a new random point on the square\n",
    "class point(): \n",
    "    def __init__(self):\n",
    "        #defines random x and y coordinates between 0 and 20\n",
    "        self.x = (rnd.rand()) * 20\n",
    "        self.y = (rnd.rand()) * 20\n",
    "        return\n",
    "    # a function that takes an array of discs and determines if the point is within any radius\n",
    "    def inAnyCircle(self, discArray):\n",
    "        for i in discArray: \n",
    "            inCircle = ((self.x - i.x)**2 + (self.y - i.y)**2)**0.5 < i.radius\n",
    "            if (inCircle == True):\n",
    "                return True\n",
    "        return False\n",
    "            \n",
    "def packingFraction(discArray, NSample):\n",
    "    validCount = 0\n",
    "    for i in range(NSample):\n",
    "        singlePoint = point()\n",
    "        if (singlePoint.inAnyCircle(discArray) == True):\n",
    "            validCount += 1\n",
    "    return validCount / NSample\n",
    "\n",
    "#need to both regenerate the discs and points every time, so below function is invalid\n",
    "\n",
    "def averagedPackingFraction(NReps, discArray, NSample):\n",
    "    fractions = np.array([])\n",
    "    for i in range(NReps):\n",
    "        fractions = np.append(fractions, (packingFraction(discArray, NSample)))\n",
    "    return np.mean(fractions)\n"
   ]
  },
  {
   "cell_type": "code",
   "execution_count": 564,
   "id": "8124c529",
   "metadata": {},
   "outputs": [
    {
     "data": {
      "text/plain": [
       "0.01"
      ]
     },
     "execution_count": 564,
     "metadata": {},
     "output_type": "execute_result"
    }
   ],
   "source": [
    "packingFraction(testArray, 200)"
   ]
  },
  {
   "cell_type": "code",
   "execution_count": 565,
   "id": "c5efb6af",
   "metadata": {},
   "outputs": [],
   "source": [
    "def combinedFunction(dispersity, overlapConstant, NParticles, NSample, NRep):\n",
    "    fractions = np.array([])\n",
    "    for i in range(NRep):\n",
    "        discArray = addDiscs(NParticles, dispersity, overlapConstant)\n",
    "        fractions = np.append(fractions, (packingFraction(discArray, NSample)))\n",
    "    return np.mean(fractions)    \n",
    "    "
   ]
  },
  {
   "cell_type": "code",
   "execution_count": 581,
   "id": "738b7969",
   "metadata": {},
   "outputs": [
    {
     "data": {
      "text/plain": [
       "0.37979000000000007"
      ]
     },
     "execution_count": 581,
     "metadata": {},
     "output_type": "execute_result"
    }
   ],
   "source": [
    "combinedFunction(3, 1, 1000, 1000, 100)"
   ]
  },
  {
   "cell_type": "code",
   "execution_count": 587,
   "id": "f65eb01e",
   "metadata": {},
   "outputs": [
    {
     "ename": "ValueError",
     "evalue": "stmt is neither a string nor callable",
     "output_type": "error",
     "traceback": [
      "\u001b[1;31m---------------------------------------------------------------------------\u001b[0m",
      "\u001b[1;31mValueError\u001b[0m                                Traceback (most recent call last)",
      "Input \u001b[1;32mIn [587]\u001b[0m, in \u001b[0;36m<cell line: 2>\u001b[1;34m()\u001b[0m\n\u001b[0;32m      1\u001b[0m \u001b[38;5;28;01mimport\u001b[39;00m \u001b[38;5;21;01mtimeit\u001b[39;00m\n\u001b[1;32m----> 2\u001b[0m \u001b[43mtimeit\u001b[49m\u001b[38;5;241;43m.\u001b[39;49m\u001b[43mtimeit\u001b[49m\u001b[43m(\u001b[49m\u001b[43m(\u001b[49m\u001b[43mcombinedFunction\u001b[49m\u001b[43m(\u001b[49m\u001b[38;5;241;43m3\u001b[39;49m\u001b[43m,\u001b[49m\u001b[43m \u001b[49m\u001b[38;5;241;43m1\u001b[39;49m\u001b[43m,\u001b[49m\u001b[43m \u001b[49m\u001b[38;5;241;43m100\u001b[39;49m\u001b[43m,\u001b[49m\u001b[43m \u001b[49m\u001b[38;5;241;43m100\u001b[39;49m\u001b[43m,\u001b[49m\u001b[43m \u001b[49m\u001b[38;5;241;43m10\u001b[39;49m\u001b[43m)\u001b[49m\u001b[43m)\u001b[49m\u001b[43m)\u001b[49m\n",
      "File \u001b[1;32m~\\anaconda3\\lib\\timeit.py:233\u001b[0m, in \u001b[0;36mtimeit\u001b[1;34m(stmt, setup, timer, number, globals)\u001b[0m\n\u001b[0;32m    230\u001b[0m \u001b[38;5;28;01mdef\u001b[39;00m \u001b[38;5;21mtimeit\u001b[39m(stmt\u001b[38;5;241m=\u001b[39m\u001b[38;5;124m\"\u001b[39m\u001b[38;5;124mpass\u001b[39m\u001b[38;5;124m\"\u001b[39m, setup\u001b[38;5;241m=\u001b[39m\u001b[38;5;124m\"\u001b[39m\u001b[38;5;124mpass\u001b[39m\u001b[38;5;124m\"\u001b[39m, timer\u001b[38;5;241m=\u001b[39mdefault_timer,\n\u001b[0;32m    231\u001b[0m            number\u001b[38;5;241m=\u001b[39mdefault_number, \u001b[38;5;28mglobals\u001b[39m\u001b[38;5;241m=\u001b[39m\u001b[38;5;28;01mNone\u001b[39;00m):\n\u001b[0;32m    232\u001b[0m     \u001b[38;5;124;03m\"\"\"Convenience function to create Timer object and call timeit method.\"\"\"\u001b[39;00m\n\u001b[1;32m--> 233\u001b[0m     \u001b[38;5;28;01mreturn\u001b[39;00m \u001b[43mTimer\u001b[49m\u001b[43m(\u001b[49m\u001b[43mstmt\u001b[49m\u001b[43m,\u001b[49m\u001b[43m \u001b[49m\u001b[43msetup\u001b[49m\u001b[43m,\u001b[49m\u001b[43m \u001b[49m\u001b[43mtimer\u001b[49m\u001b[43m,\u001b[49m\u001b[43m \u001b[49m\u001b[38;5;28;43mglobals\u001b[39;49m\u001b[43m)\u001b[49m\u001b[38;5;241m.\u001b[39mtimeit(number)\n",
      "File \u001b[1;32m~\\anaconda3\\lib\\timeit.py:129\u001b[0m, in \u001b[0;36mTimer.__init__\u001b[1;34m(self, stmt, setup, timer, globals)\u001b[0m\n\u001b[0;32m    127\u001b[0m     stmt \u001b[38;5;241m=\u001b[39m \u001b[38;5;124m'\u001b[39m\u001b[38;5;124m_stmt()\u001b[39m\u001b[38;5;124m'\u001b[39m\n\u001b[0;32m    128\u001b[0m \u001b[38;5;28;01melse\u001b[39;00m:\n\u001b[1;32m--> 129\u001b[0m     \u001b[38;5;28;01mraise\u001b[39;00m \u001b[38;5;167;01mValueError\u001b[39;00m(\u001b[38;5;124m\"\u001b[39m\u001b[38;5;124mstmt is neither a string nor callable\u001b[39m\u001b[38;5;124m\"\u001b[39m)\n\u001b[0;32m    130\u001b[0m src \u001b[38;5;241m=\u001b[39m template\u001b[38;5;241m.\u001b[39mformat(stmt\u001b[38;5;241m=\u001b[39mstmt, setup\u001b[38;5;241m=\u001b[39msetup, init\u001b[38;5;241m=\u001b[39minit)\n\u001b[0;32m    131\u001b[0m \u001b[38;5;28mself\u001b[39m\u001b[38;5;241m.\u001b[39msrc \u001b[38;5;241m=\u001b[39m src  \u001b[38;5;66;03m# Save for traceback display\u001b[39;00m\n",
      "\u001b[1;31mValueError\u001b[0m: stmt is neither a string nor callable"
     ]
    }
   ],
   "source": [
    "import timeit\n",
    "timeit.timeit(combinedFunction(3, 1, 100, 100, 10))"
   ]
  },
  {
   "cell_type": "code",
   "execution_count": null,
   "id": "25173213",
   "metadata": {},
   "outputs": [],
   "source": []
  }
 ],
 "metadata": {
  "kernelspec": {
   "display_name": "Python 3 (ipykernel)",
   "language": "python",
   "name": "python3"
  },
  "language_info": {
   "codemirror_mode": {
    "name": "ipython",
    "version": 3
   },
   "file_extension": ".py",
   "mimetype": "text/x-python",
   "name": "python",
   "nbconvert_exporter": "python",
   "pygments_lexer": "ipython3",
   "version": "3.9.12"
  }
 },
 "nbformat": 4,
 "nbformat_minor": 5
}
